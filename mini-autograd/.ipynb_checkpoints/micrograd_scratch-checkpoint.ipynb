{
 "cells": [
  {
   "cell_type": "markdown",
   "metadata": {},
   "source": [
    "### Derivative of a simple function with one input"
   ]
  },
  {
   "cell_type": "code",
   "execution_count": 1,
   "metadata": {},
   "outputs": [],
   "source": [
    "import math\n",
    "import numpy as np\n",
    "import matplotlib.pyplot as plt\n",
    "%matplotlib inline"
   ]
  },
  {
   "cell_type": "code",
   "execution_count": 2,
   "metadata": {},
   "outputs": [],
   "source": [
    "def f(x):\n",
    "    return 5*x**2 - 4*x + 2"
   ]
  },
  {
   "cell_type": "code",
   "execution_count": 3,
   "metadata": {},
   "outputs": [
    {
     "data": {
      "text/plain": [
       "107"
      ]
     },
     "execution_count": 3,
     "metadata": {},
     "output_type": "execute_result"
    }
   ],
   "source": [
    "f(5)"
   ]
  },
  {
   "cell_type": "code",
   "execution_count": 4,
   "metadata": {},
   "outputs": [
    {
     "data": {
      "text/plain": [
       "[<matplotlib.lines.Line2D at 0x7f7cd35825b0>]"
      ]
     },
     "execution_count": 4,
     "metadata": {},
     "output_type": "execute_result"
    },
    {
     "data": {
      "image/png": "[encoded data removed]",
      "text/plain": [
       "<Figure size 640x480 with 1 Axes>"
      ]
     },
     "metadata": {},
     "output_type": "display_data"
    }
   ],
   "source": [
    "xs = np.arange(-5, 5, 0.25)\n",
    "ys = f(xs)\n",
    "plt.plot(xs, ys)"
   ]
  },
  {
   "cell_type": "code",
   "execution_count": 5,
   "metadata": {},
   "outputs": [
    {
     "data": {
      "text/plain": [
       "26.00000044594708"
      ]
     },
     "execution_count": 5,
     "metadata": {},
     "output_type": "execute_result"
    }
   ],
   "source": [
    "h = 0.0000001\n",
    "x = 3\n",
    "(f(x + h) - f(x))/h"
   ]
  },
  {
   "cell_type": "markdown",
   "metadata": {},
   "source": [
    "### Derivative of a function with multiple inputs"
   ]
  },
  {
   "cell_type": "code",
   "execution_count": 6,
   "metadata": {},
   "outputs": [
    {
     "name": "stdout",
     "output_type": "stream",
     "text": [
      "4.0\n"
     ]
    }
   ],
   "source": [
    "a = 2.0\n",
    "b = -3.0\n",
    "c = 10.0\n",
    "d = a*b + c\n",
    "print(d)"
   ]
  },
  {
   "cell_type": "code",
   "execution_count": 7,
   "metadata": {},
   "outputs": [
    {
     "name": "stdout",
     "output_type": "stream",
     "text": [
      "d1:  4.0\n",
      "d2:  3.999699999999999\n",
      "slope:  -3.000000000010772\n"
     ]
    }
   ],
   "source": [
    "h = 0.0001\n",
    "\n",
    "# Inputs\n",
    "a = 2.0\n",
    "b = -3.0\n",
    "c = 10.0\n",
    "\n",
    "d1 = a*b + c\n",
    "# Diff wrt changing value of a, b or c\n",
    "a += h\n",
    "d2 = a*b + c\n",
    "\n",
    "print(\"d1: \", d1)\n",
    "print(\"d2: \", d2)\n",
    "print(\"slope: \", (d2-d1)/h)"
   ]
  },
  {
   "cell_type": "markdown",
   "metadata": {},
   "source": [
    "## Mini-Autograd aka Micrograd"
   ]
  },
  {
   "cell_type": "code",
   "execution_count": 8,
   "metadata": {},
   "outputs": [],
   "source": [
    "class Value:\n",
    "    \n",
    "    # Children is converted to set and stores as prev for keeping track of child dependency, i.e, which led to \n",
    "    # the creation of a new Value element, and _op is used to store the operation that led to the creation.\n",
    "\n",
    "    # All _backward prop funcs now accumulate gradients in order to solve for repetition of same nodes\n",
    "    \n",
    "    def __init__(self, data, _children=(), _op=''):\n",
    "        self.data = data\n",
    "        self.grad = 0\n",
    "        self._backward = lambda : None\n",
    "        self._prev = set(_children)\n",
    "        self._op = _op\n",
    "        \n",
    "    def __repr__(self):\n",
    "        return f\"Value(data={self.data})\"\n",
    "    \n",
    "    def __add__(self, other):\n",
    "        other = other if isinstance(other, Value) else Value(other)\n",
    "        res = Value(self.data + other.data, (self, other), '+')\n",
    "        \n",
    "        # Backward prop in all cases is just local derivative * global derivative\n",
    "        # In case of addition operation, local derivative is 1\n",
    "        def _backward():\n",
    "            self.grad += 1.0 * res.grad\n",
    "            other.grad += 1.0 * res.grad\n",
    "        res._backward = _backward\n",
    "        \n",
    "        return res\n",
    "    \n",
    "    # other + self\n",
    "    def __radd__(self, other): \n",
    "        return self + other\n",
    "    \n",
    "    def __neg__(self):\n",
    "        return self * -1\n",
    "    \n",
    "    def __sub__(self, other):\n",
    "        return self + (-other)\n",
    "    \n",
    "    def __mul__(self, other):\n",
    "        other = other if isinstance(other, Value) else Value(other)\n",
    "        res = Value(self.data * other.data, (self, other), '*')\n",
    "        \n",
    "        # Local derivative is the other operand's data we're multiplying with (due to chain rule)\n",
    "        def _backward():\n",
    "            self.grad += other.data * res.grad\n",
    "            other.grad += self.data * res.grad\n",
    "        res._backward = _backward\n",
    "        \n",
    "        return res\n",
    "    \n",
    "    def __pow__(self, other):\n",
    "        assert isinstance(other, (int, float)), \"supports only int or float powers\"\n",
    "        res = Value(self.data ** other, (self,), f'**{other}')\n",
    "        \n",
    "        def _backward():\n",
    "            self.grad += other * (self.data ** (other - 1)) * res.grad\n",
    "        res._backward = _backward\n",
    "        \n",
    "        return res\n",
    "    \n",
    "    # other * self\n",
    "    def __rmul__(self, other): \n",
    "        return self * other\n",
    "    \n",
    "    def __truediv__(self, other):\n",
    "        return self * (other ** -1)\n",
    "    \n",
    "    def tanh(self):\n",
    "        x = self.data\n",
    "        t = ((math.exp(2*x) - 1) / (math.exp(2*x) + 1))\n",
    "        res = Value(t, (self, ), 'tanh')\n",
    "        \n",
    "        # Local derivative for tanh is 1-tanh^2 \n",
    "        def _backward():\n",
    "            self.grad += (1-t**2) * res.grad\n",
    "        res._backward = _backward\n",
    "        \n",
    "        return res\n",
    "    \n",
    "    def exp(self):\n",
    "        x = self.data\n",
    "        res = Value(math.exp(x), (self, ), 'exp')\n",
    "        \n",
    "        # Local derivative for exp is exp itself\n",
    "        def _backward():\n",
    "            self.grad += res.data * res.grad\n",
    "        res._backward = _backward\n",
    "        \n",
    "        return res\n",
    "    \n",
    "    def backward(self):\n",
    "        # Topological sort to ensure that the backward prop func is called in the right order\n",
    "        topo = []\n",
    "        visited = set()\n",
    "\n",
    "        def build(v):\n",
    "            if v not in visited:\n",
    "                visited.add(v)\n",
    "                for child in v._prev:\n",
    "                    build(child)\n",
    "                topo.append(v)\n",
    "        build(self)\n",
    "\n",
    "        self.grad = 1.0\n",
    "        for node in reversed(topo):\n",
    "            node._backward()"
   ]
  },
  {
   "cell_type": "code",
   "execution_count": 9,
   "metadata": {},
   "outputs": [
    {
     "data": {
      "text/plain": [
       "Value(data=-5.0)"
      ]
     },
     "execution_count": 9,
     "metadata": {},
     "output_type": "execute_result"
    }
   ],
   "source": [
    "a = Value(5.0)\n",
    "b = Value(10.0)\n",
    "\n",
    "a-b"
   ]
  },
  {
   "cell_type": "code",
   "execution_count": 10,
   "metadata": {},
   "outputs": [],
   "source": [
    "#Code for visualization, not required\n",
    "from graphviz import Digraph\n",
    "\n",
    "def trace(root):\n",
    "    nodes, edges = set(), set()\n",
    "    def build(v):\n",
    "        if v not in nodes:\n",
    "            nodes.add(v)\n",
    "            for child in v._prev:\n",
    "                edges.add((child, v))\n",
    "                build(child)\n",
    "    build(root)\n",
    "    return nodes, edges\n",
    "\n",
    "def draw_dot(root, format='svg', rankdir='LR'):\n",
    "    \"\"\"\n",
    "    format: png | svg | ...\n",
    "    rankdir: TB (top to bottom graph) | LR (left to right)\n",
    "    \"\"\"\n",
    "    assert rankdir in ['LR', 'TB']\n",
    "    nodes, edges = trace(root)\n",
    "    dot = Digraph(format=format, graph_attr={'rankdir': rankdir}) #, node_attr={'rankdir': 'TB'})\n",
    "    \n",
    "    for n in nodes:\n",
    "        dot.node(name=str(id(n)), label = \"{ data %.4f | grad %.4f}\" % (n.data, n.grad), shape='record')\n",
    "        if n._op:\n",
    "            dot.node(name=str(id(n)) + n._op, label=n._op)\n",
    "            dot.edge(str(id(n)) + n._op, str(id(n)))\n",
    "    \n",
    "    for n1, n2 in edges:\n",
    "        dot.edge(str(id(n1)), str(id(n2)) + n2._op)\n",
    "    \n",
    "    return dot"
   ]
  },
  {
   "cell_type": "markdown",
   "metadata": {},
   "source": [
    "### Backword propogation in a neuron"
   ]
  },
  {
   "cell_type": "code",
   "execution_count": 21,
   "metadata": {},
   "outputs": [],
   "source": [
    "# inputs\n",
    "x1 = Value(2.0)\n",
    "x2 = Value(0.0)\n",
    "# weights\n",
    "w1 = Value(-3.0)\n",
    "w2 = Value(1.0)\n",
    "# bias\n",
    "b = Value(6.8813735870195432)\n",
    "\n",
    "# x1*w1 + x2*w2 + b\n",
    "x1w1 = x1*w1\n",
    "x2w2 = x2*w2\n",
    "x1w1x2w2 = x1w1 + x2w2\n",
    "n = x1w1x2w2 + b\n",
    "o = n.tanh()\n",
    "\n",
    "o.backward()"
   ]
  },
  {
   "cell_type": "code",
   "execution_count": 22,
   "metadata": {},
   "outputs": [
    {
     "data": {
      "image/svg+xml": [
       "<?xml version=\"1.0\" encoding=\"UTF-8\" standalone=\"no\"?>\n",
       "<!DOCTYPE svg PUBLIC \"-//W3C//DTD SVG 1.1//EN\"\n",
       " \"http://www.w3.org/Graphics/SVG/1.1/DTD/svg11.dtd\">\n",
       "<!-- Generated by graphviz version 2.50.0 (0)\n",
       " -->\n",
       "<!-- Pages: 1 -->\n",
       "<svg width=\"1337pt\" height=\"210pt\"\n",
       " viewBox=\"0.00 0.00 1337.00 210.00\" xmlns=\"http://www.w3.org/2000/svg\" xmlns:xlink=\"http://www.w3.org/1999/xlink\">\n",
       "<g id=\"graph0\" class=\"graph\" transform=\"scale(1 1) rotate(0) translate(4 206)\">\n",
       "<polygon fill=\"white\" stroke=\"transparent\" points=\"-4,4 -4,-206 1333,-206 1333,4 -4,4\"/>\n",
       "<!-- 140174184612384 -->\n",
       "<g id=\"node1\" class=\"node\">\n",
       "<title>140174184612384</title>\n",
       "<polygon fill=\"none\" stroke=\"black\" points=\"0.5,-165.5 0.5,-201.5 166.5,-201.5 166.5,-165.5 0.5,-165.5\"/>\n",
       "<text text-anchor=\"middle\" x=\"40.5\" y=\"-179.8\" font-family=\"Times,serif\" font-size=\"14.00\">data 2.0000</text>\n",
       "<polyline fill=\"none\" stroke=\"black\" points=\"80.5,-165.5 80.5,-201.5 \"/>\n",
       "<text text-anchor=\"middle\" x=\"123.5\" y=\"-179.8\" font-family=\"Times,serif\" font-size=\"14.00\">grad &#45;1.5000</text>\n",
       "</g>\n",
       "<!-- 140174184613728* -->\n",
       "<g id=\"node10\" class=\"node\">\n",
       "<title>140174184613728*</title>\n",
       "<ellipse fill=\"none\" stroke=\"black\" cx=\"230\" cy=\"-128.5\" rx=\"27\" ry=\"18\"/>\n",
       "<text text-anchor=\"middle\" x=\"230\" y=\"-124.8\" font-family=\"Times,serif\" font-size=\"14.00\">*</text>\n",
       "</g>\n",
       "<!-- 140174184612384&#45;&gt;140174184613728* -->\n",
       "<g id=\"edge8\" class=\"edge\">\n",
       "<title>140174184612384&#45;&gt;140174184613728*</title>\n",
       "<path fill=\"none\" stroke=\"black\" d=\"M142.48,-165.4C150.76,-162.56 159.13,-159.55 167,-156.5 177.43,-152.45 188.63,-147.57 198.6,-143.02\"/>\n",
       "<polygon fill=\"black\" stroke=\"black\" points=\"200.12,-146.17 207.72,-138.8 197.18,-139.82 200.12,-146.17\"/>\n",
       "</g>\n",
       "<!-- 140174184612912 -->\n",
       "<g id=\"node2\" class=\"node\">\n",
       "<title>140174184612912</title>\n",
       "<polygon fill=\"none\" stroke=\"black\" points=\"588.5,-27.5 588.5,-63.5 750.5,-63.5 750.5,-27.5 588.5,-27.5\"/>\n",
       "<text text-anchor=\"middle\" x=\"628.5\" y=\"-41.8\" font-family=\"Times,serif\" font-size=\"14.00\">data 6.8814</text>\n",
       "<polyline fill=\"none\" stroke=\"black\" points=\"668.5,-27.5 668.5,-63.5 \"/>\n",
       "<text text-anchor=\"middle\" x=\"709.5\" y=\"-41.8\" font-family=\"Times,serif\" font-size=\"14.00\">grad 0.5000</text>\n",
       "</g>\n",
       "<!-- 140174184755648+ -->\n",
       "<g id=\"node15\" class=\"node\">\n",
       "<title>140174184755648+</title>\n",
       "<ellipse fill=\"none\" stroke=\"black\" cx=\"816\" cy=\"-72.5\" rx=\"27\" ry=\"18\"/>\n",
       "<text text-anchor=\"middle\" x=\"816\" y=\"-68.8\" font-family=\"Times,serif\" font-size=\"14.00\">+</text>\n",
       "</g>\n",
       "<!-- 140174184612912&#45;&gt;140174184755648+ -->\n",
       "<g id=\"edge12\" class=\"edge\">\n",
       "<title>140174184612912&#45;&gt;140174184755648+</title>\n",
       "<path fill=\"none\" stroke=\"black\" d=\"M750.78,-60.5C760.96,-62.4 770.92,-64.26 779.85,-65.93\"/>\n",
       "<polygon fill=\"black\" stroke=\"black\" points=\"779.33,-69.4 789.8,-67.79 780.61,-62.51 779.33,-69.4\"/>\n",
       "</g>\n",
       "<!-- 140174195994480 -->\n",
       "<g id=\"node3\" class=\"node\">\n",
       "<title>140174195994480</title>\n",
       "<polygon fill=\"none\" stroke=\"black\" points=\"295.5,-55.5 295.5,-91.5 457.5,-91.5 457.5,-55.5 295.5,-55.5\"/>\n",
       "<text text-anchor=\"middle\" x=\"335.5\" y=\"-69.8\" font-family=\"Times,serif\" font-size=\"14.00\">data 0.0000</text>\n",
       "<polyline fill=\"none\" stroke=\"black\" points=\"375.5,-55.5 375.5,-91.5 \"/>\n",
       "<text text-anchor=\"middle\" x=\"416.5\" y=\"-69.8\" font-family=\"Times,serif\" font-size=\"14.00\">grad 0.5000</text>\n",
       "</g>\n",
       "<!-- 140174195994384+ -->\n",
       "<g id=\"node7\" class=\"node\">\n",
       "<title>140174195994384+</title>\n",
       "<ellipse fill=\"none\" stroke=\"black\" cx=\"523\" cy=\"-100.5\" rx=\"27\" ry=\"18\"/>\n",
       "<text text-anchor=\"middle\" x=\"523\" y=\"-96.8\" font-family=\"Times,serif\" font-size=\"14.00\">+</text>\n",
       "</g>\n",
       "<!-- 140174195994480&#45;&gt;140174195994384+ -->\n",
       "<g id=\"edge10\" class=\"edge\">\n",
       "<title>140174195994480&#45;&gt;140174195994384+</title>\n",
       "<path fill=\"none\" stroke=\"black\" d=\"M457.78,-88.5C467.96,-90.4 477.92,-92.26 486.85,-93.93\"/>\n",
       "<polygon fill=\"black\" stroke=\"black\" points=\"486.33,-97.4 496.8,-95.79 487.61,-90.51 486.33,-97.4\"/>\n",
       "</g>\n",
       "<!-- 140174195994480* -->\n",
       "<g id=\"node4\" class=\"node\">\n",
       "<title>140174195994480*</title>\n",
       "<ellipse fill=\"none\" stroke=\"black\" cx=\"230\" cy=\"-73.5\" rx=\"27\" ry=\"18\"/>\n",
       "<text text-anchor=\"middle\" x=\"230\" y=\"-69.8\" font-family=\"Times,serif\" font-size=\"14.00\">*</text>\n",
       "</g>\n",
       "<!-- 140174195994480*&#45;&gt;140174195994480 -->\n",
       "<g id=\"edge1\" class=\"edge\">\n",
       "<title>140174195994480*&#45;&gt;140174195994480</title>\n",
       "<path fill=\"none\" stroke=\"black\" d=\"M257.17,-73.5C265.4,-73.5 275.01,-73.5 285.12,-73.5\"/>\n",
       "<polygon fill=\"black\" stroke=\"black\" points=\"285.37,-77 295.37,-73.5 285.37,-70 285.37,-77\"/>\n",
       "</g>\n",
       "<!-- 140174109528320 -->\n",
       "<g id=\"node5\" class=\"node\">\n",
       "<title>140174109528320</title>\n",
       "<polygon fill=\"none\" stroke=\"black\" points=\"2.5,-55.5 2.5,-91.5 164.5,-91.5 164.5,-55.5 2.5,-55.5\"/>\n",
       "<text text-anchor=\"middle\" x=\"42.5\" y=\"-69.8\" font-family=\"Times,serif\" font-size=\"14.00\">data 0.0000</text>\n",
       "<polyline fill=\"none\" stroke=\"black\" points=\"82.5,-55.5 82.5,-91.5 \"/>\n",
       "<text text-anchor=\"middle\" x=\"123.5\" y=\"-69.8\" font-family=\"Times,serif\" font-size=\"14.00\">grad 0.5000</text>\n",
       "</g>\n",
       "<!-- 140174109528320&#45;&gt;140174195994480* -->\n",
       "<g id=\"edge7\" class=\"edge\">\n",
       "<title>140174109528320&#45;&gt;140174195994480*</title>\n",
       "<path fill=\"none\" stroke=\"black\" d=\"M164.78,-73.5C174.57,-73.5 184.16,-73.5 192.82,-73.5\"/>\n",
       "<polygon fill=\"black\" stroke=\"black\" points=\"192.88,-77 202.88,-73.5 192.88,-70 192.88,-77\"/>\n",
       "</g>\n",
       "<!-- 140174195994384 -->\n",
       "<g id=\"node6\" class=\"node\">\n",
       "<title>140174195994384</title>\n",
       "<polygon fill=\"none\" stroke=\"black\" points=\"586,-82.5 586,-118.5 753,-118.5 753,-82.5 586,-82.5\"/>\n",
       "<text text-anchor=\"middle\" x=\"628.5\" y=\"-96.8\" font-family=\"Times,serif\" font-size=\"14.00\">data &#45;6.0000</text>\n",
       "<polyline fill=\"none\" stroke=\"black\" points=\"671,-82.5 671,-118.5 \"/>\n",
       "<text text-anchor=\"middle\" x=\"712\" y=\"-96.8\" font-family=\"Times,serif\" font-size=\"14.00\">grad 0.5000</text>\n",
       "</g>\n",
       "<!-- 140174195994384&#45;&gt;140174184755648+ -->\n",
       "<g id=\"edge6\" class=\"edge\">\n",
       "<title>140174195994384&#45;&gt;140174184755648+</title>\n",
       "<path fill=\"none\" stroke=\"black\" d=\"M753.3,-84.46C762.61,-82.65 771.68,-80.89 779.88,-79.31\"/>\n",
       "<polygon fill=\"black\" stroke=\"black\" points=\"780.59,-82.73 789.75,-77.39 779.26,-75.86 780.59,-82.73\"/>\n",
       "</g>\n",
       "<!-- 140174195994384+&#45;&gt;140174195994384 -->\n",
       "<g id=\"edge2\" class=\"edge\">\n",
       "<title>140174195994384+&#45;&gt;140174195994384</title>\n",
       "<path fill=\"none\" stroke=\"black\" d=\"M550.17,-100.5C557.75,-100.5 566.5,-100.5 575.74,-100.5\"/>\n",
       "<polygon fill=\"black\" stroke=\"black\" points=\"575.92,-104 585.92,-100.5 575.92,-97 575.92,-104\"/>\n",
       "</g>\n",
       "<!-- 140174184614160 -->\n",
       "<g id=\"node8\" class=\"node\">\n",
       "<title>140174184614160</title>\n",
       "<polygon fill=\"none\" stroke=\"black\" points=\"2.5,-0.5 2.5,-36.5 164.5,-36.5 164.5,-0.5 2.5,-0.5\"/>\n",
       "<text text-anchor=\"middle\" x=\"42.5\" y=\"-14.8\" font-family=\"Times,serif\" font-size=\"14.00\">data 1.0000</text>\n",
       "<polyline fill=\"none\" stroke=\"black\" points=\"82.5,-0.5 82.5,-36.5 \"/>\n",
       "<text text-anchor=\"middle\" x=\"123.5\" y=\"-14.8\" font-family=\"Times,serif\" font-size=\"14.00\">grad 0.0000</text>\n",
       "</g>\n",
       "<!-- 140174184614160&#45;&gt;140174195994480* -->\n",
       "<g id=\"edge11\" class=\"edge\">\n",
       "<title>140174184614160&#45;&gt;140174195994480*</title>\n",
       "<path fill=\"none\" stroke=\"black\" d=\"M139.76,-36.54C148.9,-39.73 158.25,-43.12 167,-46.5 177.18,-50.44 188.15,-55.08 197.99,-59.39\"/>\n",
       "<polygon fill=\"black\" stroke=\"black\" points=\"196.82,-62.7 207.38,-63.55 199.66,-56.3 196.82,-62.7\"/>\n",
       "</g>\n",
       "<!-- 140174184613728 -->\n",
       "<g id=\"node9\" class=\"node\">\n",
       "<title>140174184613728</title>\n",
       "<polygon fill=\"none\" stroke=\"black\" points=\"293,-110.5 293,-146.5 460,-146.5 460,-110.5 293,-110.5\"/>\n",
       "<text text-anchor=\"middle\" x=\"335.5\" y=\"-124.8\" font-family=\"Times,serif\" font-size=\"14.00\">data &#45;6.0000</text>\n",
       "<polyline fill=\"none\" stroke=\"black\" points=\"378,-110.5 378,-146.5 \"/>\n",
       "<text text-anchor=\"middle\" x=\"419\" y=\"-124.8\" font-family=\"Times,serif\" font-size=\"14.00\">grad 0.5000</text>\n",
       "</g>\n",
       "<!-- 140174184613728&#45;&gt;140174195994384+ -->\n",
       "<g id=\"edge9\" class=\"edge\">\n",
       "<title>140174184613728&#45;&gt;140174195994384+</title>\n",
       "<path fill=\"none\" stroke=\"black\" d=\"M460.3,-112.46C469.61,-110.65 478.68,-108.89 486.88,-107.31\"/>\n",
       "<polygon fill=\"black\" stroke=\"black\" points=\"487.59,-110.73 496.75,-105.39 486.26,-103.86 487.59,-110.73\"/>\n",
       "</g>\n",
       "<!-- 140174184613728*&#45;&gt;140174184613728 -->\n",
       "<g id=\"edge3\" class=\"edge\">\n",
       "<title>140174184613728*&#45;&gt;140174184613728</title>\n",
       "<path fill=\"none\" stroke=\"black\" d=\"M257.17,-128.5C264.75,-128.5 273.5,-128.5 282.74,-128.5\"/>\n",
       "<polygon fill=\"black\" stroke=\"black\" points=\"282.92,-132 292.92,-128.5 282.92,-125 282.92,-132\"/>\n",
       "</g>\n",
       "<!-- 140174184755552 -->\n",
       "<g id=\"node11\" class=\"node\">\n",
       "<title>140174184755552</title>\n",
       "<polygon fill=\"none\" stroke=\"black\" points=\"1167,-54.5 1167,-90.5 1329,-90.5 1329,-54.5 1167,-54.5\"/>\n",
       "<text text-anchor=\"middle\" x=\"1207\" y=\"-68.8\" font-family=\"Times,serif\" font-size=\"14.00\">data 0.7071</text>\n",
       "<polyline fill=\"none\" stroke=\"black\" points=\"1247,-54.5 1247,-90.5 \"/>\n",
       "<text text-anchor=\"middle\" x=\"1288\" y=\"-68.8\" font-family=\"Times,serif\" font-size=\"14.00\">grad 1.0000</text>\n",
       "</g>\n",
       "<!-- 140174184755552tanh -->\n",
       "<g id=\"node12\" class=\"node\">\n",
       "<title>140174184755552tanh</title>\n",
       "<ellipse fill=\"none\" stroke=\"black\" cx=\"1104\" cy=\"-72.5\" rx=\"27\" ry=\"18\"/>\n",
       "<text text-anchor=\"middle\" x=\"1104\" y=\"-68.8\" font-family=\"Times,serif\" font-size=\"14.00\">tanh</text>\n",
       "</g>\n",
       "<!-- 140174184755552tanh&#45;&gt;140174184755552 -->\n",
       "<g id=\"edge4\" class=\"edge\">\n",
       "<title>140174184755552tanh&#45;&gt;140174184755552</title>\n",
       "<path fill=\"none\" stroke=\"black\" d=\"M1131.04,-72.5C1138.63,-72.5 1147.38,-72.5 1156.6,-72.5\"/>\n",
       "<polygon fill=\"black\" stroke=\"black\" points=\"1156.76,-76 1166.76,-72.5 1156.76,-69 1156.76,-76\"/>\n",
       "</g>\n",
       "<!-- 140174184612768 -->\n",
       "<g id=\"node13\" class=\"node\">\n",
       "<title>140174184612768</title>\n",
       "<polygon fill=\"none\" stroke=\"black\" points=\"0,-110.5 0,-146.5 167,-146.5 167,-110.5 0,-110.5\"/>\n",
       "<text text-anchor=\"middle\" x=\"42.5\" y=\"-124.8\" font-family=\"Times,serif\" font-size=\"14.00\">data &#45;3.0000</text>\n",
       "<polyline fill=\"none\" stroke=\"black\" points=\"85,-110.5 85,-146.5 \"/>\n",
       "<text text-anchor=\"middle\" x=\"126\" y=\"-124.8\" font-family=\"Times,serif\" font-size=\"14.00\">grad 1.0000</text>\n",
       "</g>\n",
       "<!-- 140174184612768&#45;&gt;140174184613728* -->\n",
       "<g id=\"edge13\" class=\"edge\">\n",
       "<title>140174184612768&#45;&gt;140174184613728*</title>\n",
       "<path fill=\"none\" stroke=\"black\" d=\"M167.3,-128.5C176.14,-128.5 184.77,-128.5 192.64,-128.5\"/>\n",
       "<polygon fill=\"black\" stroke=\"black\" points=\"192.85,-132 202.85,-128.5 192.85,-125 192.85,-132\"/>\n",
       "</g>\n",
       "<!-- 140174184755648 -->\n",
       "<g id=\"node14\" class=\"node\">\n",
       "<title>140174184755648</title>\n",
       "<polygon fill=\"none\" stroke=\"black\" points=\"879,-54.5 879,-90.5 1041,-90.5 1041,-54.5 879,-54.5\"/>\n",
       "<text text-anchor=\"middle\" x=\"919\" y=\"-68.8\" font-family=\"Times,serif\" font-size=\"14.00\">data 0.8814</text>\n",
       "<polyline fill=\"none\" stroke=\"black\" points=\"959,-54.5 959,-90.5 \"/>\n",
       "<text text-anchor=\"middle\" x=\"1000\" y=\"-68.8\" font-family=\"Times,serif\" font-size=\"14.00\">grad 0.5000</text>\n",
       "</g>\n",
       "<!-- 140174184755648&#45;&gt;140174184755552tanh -->\n",
       "<g id=\"edge14\" class=\"edge\">\n",
       "<title>140174184755648&#45;&gt;140174184755552tanh</title>\n",
       "<path fill=\"none\" stroke=\"black\" d=\"M1041.13,-72.5C1049.95,-72.5 1058.58,-72.5 1066.47,-72.5\"/>\n",
       "<polygon fill=\"black\" stroke=\"black\" points=\"1066.7,-76 1076.7,-72.5 1066.7,-69 1066.7,-76\"/>\n",
       "</g>\n",
       "<!-- 140174184755648+&#45;&gt;140174184755648 -->\n",
       "<g id=\"edge5\" class=\"edge\">\n",
       "<title>140174184755648+&#45;&gt;140174184755648</title>\n",
       "<path fill=\"none\" stroke=\"black\" d=\"M843.04,-72.5C850.63,-72.5 859.38,-72.5 868.6,-72.5\"/>\n",
       "<polygon fill=\"black\" stroke=\"black\" points=\"868.76,-76 878.76,-72.5 868.76,-69 868.76,-76\"/>\n",
       "</g>\n",
       "</g>\n",
       "</svg>\n"
      ],
      "text/plain": [
       "<graphviz.graphs.Digraph at 0x7f7cd87b0580>"
      ]
     },
     "execution_count": 22,
     "metadata": {},
     "output_type": "execute_result"
    }
   ],
   "source": [
    "draw_dot(o)"
   ]
  },
  {
   "cell_type": "markdown",
   "metadata": {},
   "source": [
    "## PyTorch Comparison"
   ]
  },
  {
   "cell_type": "code",
   "execution_count": 16,
   "metadata": {},
   "outputs": [],
   "source": [
    "import torch"
   ]
  },
  {
   "cell_type": "code",
   "execution_count": 20,
   "metadata": {},
   "outputs": [
    {
     "name": "stdout",
     "output_type": "stream",
     "text": [
      "0.7071066904050358\n",
      "---\n",
      "×2 0.5000001283844369\n",
      "w2 0.0\n",
      "x1 -1.5000003851533106\n",
      "w1 1.0000002567688737\n"
     ]
    }
   ],
   "source": [
    "x1 = torch. Tensor([2.0]).double() \n",
    "x1.requires_grad = True\n",
    "\n",
    "x2 = torch.Tensor([0.0]).double()\n",
    "x2.requires_grad = True\n",
    "\n",
    "w1 = torch.Tensor([-3.0]).double()\n",
    "w1.requires_grad = True\n",
    "\n",
    "w2 = torch.Tensor([1.0]).double()\n",
    "w2.requires_grad = True\n",
    "\n",
    "b = torch.Tensor([6.8813735870195432]).double ()\n",
    "b.requires_grad = True\n",
    "\n",
    "n = x1*w1 + x2*w2 + b\n",
    "o = torch. tanh (n)\n",
    "\n",
    "print(o.data.item())\n",
    "o.backward()\n",
    "\n",
    "print('---')\n",
    "print('×2', x2.grad.item()) \n",
    "print('w2', w2.grad.item())\n",
    "print('x1', x1.grad.item())\n",
    "print('w1', w1.grad.item ())"
   ]
  },
  {
   "cell_type": "code",
   "execution_count": null,
   "metadata": {},
   "outputs": [],
   "source": []
  }
 ],
 "metadata": {
  "kernelspec": {
   "display_name": "Python 3 (ipykernel)",
   "language": "python",
   "name": "python3"
  },
  "language_info": {
   "codemirror_mode": {
    "name": "ipython",
    "version": 3
   },
   "file_extension": ".py",
   "mimetype": "text/x-python",
   "name": "python",
   "nbconvert_exporter": "python",
   "pygments_lexer": "ipython3",
   "version": "3.9.13"
  }
 },
 "nbformat": 4,
 "nbformat_minor": 4
}
